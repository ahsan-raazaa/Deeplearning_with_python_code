{
 "cells": [
  {
   "cell_type": "code",
   "execution_count": 5,
   "id": "4dfbc0c2",
   "metadata": {},
   "outputs": [],
   "source": [
    "from keras.applications import vgg16"
   ]
  },
  {
   "cell_type": "code",
   "execution_count": 6,
   "id": "379b59bd",
   "metadata": {},
   "outputs": [],
   "source": [
    "conv_base = vgg16.VGG16(weights='imagenet',\n",
    "                  include_top=False,\n",
    "                  input_shape=(150, 150, 3))"
   ]
  },
  {
   "cell_type": "code",
   "execution_count": 7,
   "id": "512b98ed",
   "metadata": {},
   "outputs": [
    {
     "name": "stdout",
     "output_type": "stream",
     "text": [
      "Model: \"vgg16\"\n",
      "_________________________________________________________________\n",
      "Layer (type)                 Output Shape              Param #   \n",
      "=================================================================\n",
      "input_1 (InputLayer)         [(None, 150, 150, 3)]     0         \n",
      "_________________________________________________________________\n",
      "block1_conv1 (Conv2D)        (None, 150, 150, 64)      1792      \n",
      "_________________________________________________________________\n",
      "block1_conv2 (Conv2D)        (None, 150, 150, 64)      36928     \n",
      "_________________________________________________________________\n",
      "block1_pool (MaxPooling2D)   (None, 75, 75, 64)        0         \n",
      "_________________________________________________________________\n",
      "block2_conv1 (Conv2D)        (None, 75, 75, 128)       73856     \n",
      "_________________________________________________________________\n",
      "block2_conv2 (Conv2D)        (None, 75, 75, 128)       147584    \n",
      "_________________________________________________________________\n",
      "block2_pool (MaxPooling2D)   (None, 37, 37, 128)       0         \n",
      "_________________________________________________________________\n",
      "block3_conv1 (Conv2D)        (None, 37, 37, 256)       295168    \n",
      "_________________________________________________________________\n",
      "block3_conv2 (Conv2D)        (None, 37, 37, 256)       590080    \n",
      "_________________________________________________________________\n",
      "block3_conv3 (Conv2D)        (None, 37, 37, 256)       590080    \n",
      "_________________________________________________________________\n",
      "block3_pool (MaxPooling2D)   (None, 18, 18, 256)       0         \n",
      "_________________________________________________________________\n",
      "block4_conv1 (Conv2D)        (None, 18, 18, 512)       1180160   \n",
      "_________________________________________________________________\n",
      "block4_conv2 (Conv2D)        (None, 18, 18, 512)       2359808   \n",
      "_________________________________________________________________\n",
      "block4_conv3 (Conv2D)        (None, 18, 18, 512)       2359808   \n",
      "_________________________________________________________________\n",
      "block4_pool (MaxPooling2D)   (None, 9, 9, 512)         0         \n",
      "_________________________________________________________________\n",
      "block5_conv1 (Conv2D)        (None, 9, 9, 512)         2359808   \n",
      "_________________________________________________________________\n",
      "block5_conv2 (Conv2D)        (None, 9, 9, 512)         2359808   \n",
      "_________________________________________________________________\n",
      "block5_conv3 (Conv2D)        (None, 9, 9, 512)         2359808   \n",
      "_________________________________________________________________\n",
      "block5_pool (MaxPooling2D)   (None, 4, 4, 512)         0         \n",
      "=================================================================\n",
      "Total params: 14,714,688\n",
      "Trainable params: 14,714,688\n",
      "Non-trainable params: 0\n",
      "_________________________________________________________________\n"
     ]
    }
   ],
   "source": [
    "conv_base.summary()"
   ]
  },
  {
   "cell_type": "code",
   "execution_count": 8,
   "id": "5917996f",
   "metadata": {},
   "outputs": [],
   "source": [
    "from keras import models\n",
    "from keras import layers"
   ]
  },
  {
   "cell_type": "code",
   "execution_count": 9,
   "id": "e3d8d739",
   "metadata": {},
   "outputs": [],
   "source": [
    "model = models.Sequential()"
   ]
  },
  {
   "cell_type": "code",
   "execution_count": 10,
   "id": "ac332d40",
   "metadata": {},
   "outputs": [],
   "source": [
    "model.add(conv_base)"
   ]
  },
  {
   "cell_type": "code",
   "execution_count": 11,
   "id": "5b2f6eae",
   "metadata": {},
   "outputs": [],
   "source": [
    "model.add(layers.Flatten())\n",
    "model.add(layers.Dense(256, activation='relu'))\n",
    "model.add(layers.Dense(1, activation = 'sigmoid'))"
   ]
  },
  {
   "cell_type": "code",
   "execution_count": 12,
   "id": "7b917c1c",
   "metadata": {},
   "outputs": [
    {
     "name": "stdout",
     "output_type": "stream",
     "text": [
      "Model: \"sequential_1\"\n",
      "_________________________________________________________________\n",
      "Layer (type)                 Output Shape              Param #   \n",
      "=================================================================\n",
      "vgg16 (Functional)           (None, 4, 4, 512)         14714688  \n",
      "_________________________________________________________________\n",
      "flatten (Flatten)            (None, 8192)              0         \n",
      "_________________________________________________________________\n",
      "dense (Dense)                (None, 256)               2097408   \n",
      "_________________________________________________________________\n",
      "dense_1 (Dense)              (None, 1)                 257       \n",
      "=================================================================\n",
      "Total params: 16,812,353\n",
      "Trainable params: 16,812,353\n",
      "Non-trainable params: 0\n",
      "_________________________________________________________________\n"
     ]
    }
   ],
   "source": [
    "model.summary()"
   ]
  },
  {
   "cell_type": "code",
   "execution_count": 13,
   "id": "9676956d",
   "metadata": {},
   "outputs": [
    {
     "name": "stdout",
     "output_type": "stream",
     "text": [
      "This is the number of trainable weights before freezing the conv base: 30\n"
     ]
    }
   ],
   "source": [
    " print('This is the number of trainable weights '\n",
    "'before freezing the conv base:', len(model.trainable_weights))"
   ]
  },
  {
   "cell_type": "code",
   "execution_count": 14,
   "id": "96fed6ba",
   "metadata": {},
   "outputs": [],
   "source": [
    "conv_base.trainable = False"
   ]
  },
  {
   "cell_type": "code",
   "execution_count": 15,
   "id": "84c59215",
   "metadata": {},
   "outputs": [
    {
     "name": "stdout",
     "output_type": "stream",
     "text": [
      "This is the number of trainable weights before freezing the conv base: 4\n"
     ]
    }
   ],
   "source": [
    " print('This is the number of trainable weights '\n",
    "'before freezing the conv base:', len(model.trainable_weights))"
   ]
  },
  {
   "cell_type": "code",
   "execution_count": 16,
   "id": "5288591a",
   "metadata": {},
   "outputs": [],
   "source": [
    "from keras.preprocessing.image import ImageDataGenerator"
   ]
  },
  {
   "cell_type": "code",
   "execution_count": 18,
   "id": "d2dd9179",
   "metadata": {},
   "outputs": [],
   "source": [
    "from keras import optimizers"
   ]
  },
  {
   "cell_type": "code",
   "execution_count": 19,
   "id": "9086e4c6",
   "metadata": {},
   "outputs": [],
   "source": [
    "train_datagen = ImageDataGenerator(\n",
    "rescale = 1./255,\n",
    "rotation_range = 40,\n",
    "width_shift_range = 0.2,\n",
    "height_shift_range = 0.2,\n",
    "shear_range = 0.2,\n",
    "zoom_range = 0.2,\n",
    "horizontal_flip = True,\n",
    "fill_mode = 'nearest')"
   ]
  },
  {
   "cell_type": "code",
   "execution_count": 20,
   "id": "ac97dc68",
   "metadata": {},
   "outputs": [],
   "source": [
    "test_datagen = ImageDataGenerator(rescale=1./255)"
   ]
  },
  {
   "cell_type": "code",
   "execution_count": 23,
   "id": "142596f6",
   "metadata": {},
   "outputs": [],
   "source": [
    "import os"
   ]
  },
  {
   "cell_type": "code",
   "execution_count": 24,
   "id": "5d40b31d",
   "metadata": {},
   "outputs": [],
   "source": [
    "base_dir = r'C:\\Users\\ahsaa\\Desktop\\cats_and_dogs_small'\n",
    "train_dir = os.path.join(base_dir, 'train')\n",
    "validation_dir = os.path.join(base_dir, 'validation')"
   ]
  },
  {
   "cell_type": "code",
   "execution_count": 25,
   "id": "3a4ad926",
   "metadata": {},
   "outputs": [
    {
     "name": "stdout",
     "output_type": "stream",
     "text": [
      "Found 2000 images belonging to 2 classes.\n"
     ]
    }
   ],
   "source": [
    "train_generator = train_datagen.flow_from_directory(\n",
    "train_dir,\n",
    "target_size=(150, 150),\n",
    "batch_size=20,\n",
    "class_mode='binary')"
   ]
  },
  {
   "cell_type": "code",
   "execution_count": 26,
   "id": "d61fce90",
   "metadata": {},
   "outputs": [
    {
     "name": "stdout",
     "output_type": "stream",
     "text": [
      "Found 1000 images belonging to 2 classes.\n"
     ]
    }
   ],
   "source": [
    "validation_generator = test_datagen.flow_from_directory(\n",
    "validation_dir,\n",
    "target_size=(150, 150),\n",
    "batch_size=20,\n",
    "class_mode='binary')"
   ]
  },
  {
   "cell_type": "code",
   "execution_count": 28,
   "id": "92f75c4b",
   "metadata": {},
   "outputs": [],
   "source": [
    "model.compile(loss='binary_crossentropy',\n",
    "             optimizer=optimizers.RMSprop(learning_rate=2e-5),\n",
    "              metrics=['acc'])"
   ]
  },
  {
   "cell_type": "code",
   "execution_count": 32,
   "id": "c7919b1e",
   "metadata": {},
   "outputs": [
    {
     "name": "stdout",
     "output_type": "stream",
     "text": [
      "Epoch 1/30\n",
      "100/100 [==============================] - 30s 215ms/step - loss: 0.6027 - acc: 0.6635 - val_loss: 0.4696 - val_acc: 0.8090\n",
      "Epoch 2/30\n",
      "100/100 [==============================] - 10s 103ms/step - loss: 0.4929 - acc: 0.7730 - val_loss: 0.3710 - val_acc: 0.8480\n",
      "Epoch 3/30\n",
      "100/100 [==============================] - 10s 102ms/step - loss: 0.4316 - acc: 0.8010 - val_loss: 0.3355 - val_acc: 0.8600\n",
      "Epoch 4/30\n",
      "100/100 [==============================] - 10s 103ms/step - loss: 0.3960 - acc: 0.8270 - val_loss: 0.3112 - val_acc: 0.8690\n",
      "Epoch 5/30\n",
      "100/100 [==============================] - 10s 104ms/step - loss: 0.3824 - acc: 0.8400 - val_loss: 0.2901 - val_acc: 0.8760\n",
      "Epoch 6/30\n",
      "100/100 [==============================] - 10s 105ms/step - loss: 0.3767 - acc: 0.8365 - val_loss: 0.2851 - val_acc: 0.8780\n",
      "Epoch 7/30\n",
      "100/100 [==============================] - 11s 105ms/step - loss: 0.3619 - acc: 0.8460 - val_loss: 0.2682 - val_acc: 0.8880\n",
      "Epoch 8/30\n",
      "100/100 [==============================] - 11s 106ms/step - loss: 0.3489 - acc: 0.8485 - val_loss: 0.2630 - val_acc: 0.8920\n",
      "Epoch 9/30\n",
      "100/100 [==============================] - 10s 103ms/step - loss: 0.3478 - acc: 0.8455 - val_loss: 0.2590 - val_acc: 0.8900\n",
      "Epoch 10/30\n",
      "100/100 [==============================] - 10s 104ms/step - loss: 0.3366 - acc: 0.8485 - val_loss: 0.2615 - val_acc: 0.8890\n",
      "Epoch 11/30\n",
      "100/100 [==============================] - 11s 106ms/step - loss: 0.3353 - acc: 0.8435 - val_loss: 0.2533 - val_acc: 0.8950\n",
      "Epoch 12/30\n",
      "100/100 [==============================] - 11s 106ms/step - loss: 0.3239 - acc: 0.8555 - val_loss: 0.2538 - val_acc: 0.8860\n",
      "Epoch 13/30\n",
      "100/100 [==============================] - 11s 105ms/step - loss: 0.3299 - acc: 0.8530 - val_loss: 0.2511 - val_acc: 0.8910\n",
      "Epoch 14/30\n",
      "100/100 [==============================] - 11s 106ms/step - loss: 0.3215 - acc: 0.8625 - val_loss: 0.2506 - val_acc: 0.8990\n",
      "Epoch 15/30\n",
      "100/100 [==============================] - 10s 104ms/step - loss: 0.3235 - acc: 0.8580 - val_loss: 0.2450 - val_acc: 0.9000\n",
      "Epoch 16/30\n",
      "100/100 [==============================] - 10s 104ms/step - loss: 0.3210 - acc: 0.8560 - val_loss: 0.2546 - val_acc: 0.8900\n",
      "Epoch 17/30\n",
      "100/100 [==============================] - 11s 105ms/step - loss: 0.3148 - acc: 0.8660 - val_loss: 0.2602 - val_acc: 0.8920\n",
      "Epoch 18/30\n",
      "100/100 [==============================] - 10s 103ms/step - loss: 0.3069 - acc: 0.8655 - val_loss: 0.2504 - val_acc: 0.8970\n",
      "Epoch 19/30\n",
      "100/100 [==============================] - 10s 103ms/step - loss: 0.2919 - acc: 0.8775 - val_loss: 0.2408 - val_acc: 0.8990\n",
      "Epoch 20/30\n",
      "100/100 [==============================] - 10s 103ms/step - loss: 0.2870 - acc: 0.8760 - val_loss: 0.2481 - val_acc: 0.8980\n",
      "Epoch 21/30\n",
      "100/100 [==============================] - 10s 102ms/step - loss: 0.2956 - acc: 0.8745 - val_loss: 0.2505 - val_acc: 0.8950\n",
      "Epoch 22/30\n",
      "100/100 [==============================] - 11s 109ms/step - loss: 0.2916 - acc: 0.8710 - val_loss: 0.2387 - val_acc: 0.9030\n",
      "Epoch 23/30\n",
      "100/100 [==============================] - 10s 102ms/step - loss: 0.3022 - acc: 0.8665 - val_loss: 0.2407 - val_acc: 0.9060\n",
      "Epoch 24/30\n",
      "100/100 [==============================] - 10s 101ms/step - loss: 0.2883 - acc: 0.8730 - val_loss: 0.2693 - val_acc: 0.8890\n",
      "Epoch 25/30\n",
      "100/100 [==============================] - 10s 101ms/step - loss: 0.2892 - acc: 0.8765 - val_loss: 0.2461 - val_acc: 0.8950\n",
      "Epoch 26/30\n",
      "100/100 [==============================] - 10s 102ms/step - loss: 0.2935 - acc: 0.8715 - val_loss: 0.2450 - val_acc: 0.8980\n",
      "Epoch 27/30\n",
      "100/100 [==============================] - 10s 101ms/step - loss: 0.2848 - acc: 0.8805 - val_loss: 0.2368 - val_acc: 0.9020\n",
      "Epoch 28/30\n",
      "100/100 [==============================] - 10s 101ms/step - loss: 0.2816 - acc: 0.8870 - val_loss: 0.2351 - val_acc: 0.9020\n",
      "Epoch 29/30\n",
      "100/100 [==============================] - 10s 103ms/step - loss: 0.2734 - acc: 0.8885 - val_loss: 0.2428 - val_acc: 0.9060\n",
      "Epoch 30/30\n",
      "100/100 [==============================] - 10s 101ms/step - loss: 0.2827 - acc: 0.8770 - val_loss: 0.2376 - val_acc: 0.9040\n"
     ]
    }
   ],
   "source": [
    "history = model.fit(\n",
    "train_generator,\n",
    "steps_per_epoch = 100,\n",
    "epochs=30,\n",
    "validation_data = validation_generator,\n",
    "validation_steps=50)"
   ]
  },
  {
   "cell_type": "code",
   "execution_count": 33,
   "id": "f62e0fa6",
   "metadata": {},
   "outputs": [
    {
     "data": {
      "image/png": "[encoded data removed]",
      "text/plain": [
       "<Figure size 432x288 with 1 Axes>"
      ]
     },
     "metadata": {
      "needs_background": "light"
     },
     "output_type": "display_data"
    },
    {
     "data": {
      "image/png": "[encoded data removed]",
      "text/plain": [
       "<Figure size 432x288 with 1 Axes>"
      ]
     },
     "metadata": {
      "needs_background": "light"
     },
     "output_type": "display_data"
    }
   ],
   "source": [
    "import matplotlib.pyplot as plt\n",
    "\n",
    "acc = history.history['acc']\n",
    "val_acc = history.history['val_acc']\n",
    "loss = history.history['loss']\n",
    "val_loss = history.history['val_loss']\n",
    "epochs = range(1, len(acc) + 1)\n",
    "plt.plot(epochs, acc, 'bo', label='Training acc')\n",
    "plt.plot(epochs, val_acc, 'b', label='Validation acc')\n",
    "plt.title('Training and validation accuracy')\n",
    "plt.legend()\n",
    "plt.figure()\n",
    "plt.plot(epochs, loss, 'bo', label='Training loss')\n",
    "plt.plot(epochs, val_loss, 'b', label='Validation loss')\n",
    "plt.title('Training and validation loss')\n",
    "plt.legend()\n",
    "plt.show()"
   ]
  }
 ],
 "metadata": {
  "kernelspec": {
   "display_name": "Python 3",
   "language": "python",
   "name": "python3"
  },
  "language_info": {
   "codemirror_mode": {
    "name": "ipython",
    "version": 3
   },
   "file_extension": ".py",
   "mimetype": "text/x-python",
   "name": "python",
   "nbconvert_exporter": "python",
   "pygments_lexer": "ipython3",
   "version": "3.8.7"
  }
 },
 "nbformat": 4,
 "nbformat_minor": 5
}
