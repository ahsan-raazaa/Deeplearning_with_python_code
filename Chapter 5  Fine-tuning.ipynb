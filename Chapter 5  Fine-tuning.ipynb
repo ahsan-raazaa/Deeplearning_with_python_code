{
 "cells": [
  {
   "cell_type": "code",
   "execution_count": 1,
   "id": "b2419d6f",
   "metadata": {},
   "outputs": [],
   "source": [
    "from keras.applications import vgg16"
   ]
  },
  {
   "cell_type": "code",
   "execution_count": 2,
   "id": "84fb4cf5",
   "metadata": {},
   "outputs": [],
   "source": [
    "conv_base = vgg16.VGG16(weights='imagenet',\n",
    "                  include_top=False,\n",
    "                  input_shape=(150, 150, 3))"
   ]
  },
  {
   "cell_type": "code",
   "execution_count": 3,
   "id": "5377ac84",
   "metadata": {
    "scrolled": true
   },
   "outputs": [
    {
     "name": "stdout",
     "output_type": "stream",
     "text": [
      "Model: \"vgg16\"\n",
      "_________________________________________________________________\n",
      "Layer (type)                 Output Shape              Param #   \n",
      "=================================================================\n",
      "input_1 (InputLayer)         [(None, 150, 150, 3)]     0         \n",
      "_________________________________________________________________\n",
      "block1_conv1 (Conv2D)        (None, 150, 150, 64)      1792      \n",
      "_________________________________________________________________\n",
      "block1_conv2 (Conv2D)        (None, 150, 150, 64)      36928     \n",
      "_________________________________________________________________\n",
      "block1_pool (MaxPooling2D)   (None, 75, 75, 64)        0         \n",
      "_________________________________________________________________\n",
      "block2_conv1 (Conv2D)        (None, 75, 75, 128)       73856     \n",
      "_________________________________________________________________\n",
      "block2_conv2 (Conv2D)        (None, 75, 75, 128)       147584    \n",
      "_________________________________________________________________\n",
      "block2_pool (MaxPooling2D)   (None, 37, 37, 128)       0         \n",
      "_________________________________________________________________\n",
      "block3_conv1 (Conv2D)        (None, 37, 37, 256)       295168    \n",
      "_________________________________________________________________\n",
      "block3_conv2 (Conv2D)        (None, 37, 37, 256)       590080    \n",
      "_________________________________________________________________\n",
      "block3_conv3 (Conv2D)        (None, 37, 37, 256)       590080    \n",
      "_________________________________________________________________\n",
      "block3_pool (MaxPooling2D)   (None, 18, 18, 256)       0         \n",
      "_________________________________________________________________\n",
      "block4_conv1 (Conv2D)        (None, 18, 18, 512)       1180160   \n",
      "_________________________________________________________________\n",
      "block4_conv2 (Conv2D)        (None, 18, 18, 512)       2359808   \n",
      "_________________________________________________________________\n",
      "block4_conv3 (Conv2D)        (None, 18, 18, 512)       2359808   \n",
      "_________________________________________________________________\n",
      "block4_pool (MaxPooling2D)   (None, 9, 9, 512)         0         \n",
      "_________________________________________________________________\n",
      "block5_conv1 (Conv2D)        (None, 9, 9, 512)         2359808   \n",
      "_________________________________________________________________\n",
      "block5_conv2 (Conv2D)        (None, 9, 9, 512)         2359808   \n",
      "_________________________________________________________________\n",
      "block5_conv3 (Conv2D)        (None, 9, 9, 512)         2359808   \n",
      "_________________________________________________________________\n",
      "block5_pool (MaxPooling2D)   (None, 4, 4, 512)         0         \n",
      "=================================================================\n",
      "Total params: 14,714,688\n",
      "Trainable params: 14,714,688\n",
      "Non-trainable params: 0\n",
      "_________________________________________________________________\n"
     ]
    }
   ],
   "source": [
    "conv_base.summary()"
   ]
  },
  {
   "cell_type": "code",
   "execution_count": 4,
   "id": "2ff781fa",
   "metadata": {},
   "outputs": [],
   "source": [
    "conv_base.trainable = True"
   ]
  },
  {
   "cell_type": "code",
   "execution_count": 5,
   "id": "e4f973c5",
   "metadata": {},
   "outputs": [],
   "source": [
    "set_trainable = False\n",
    "for layers in conv_base.layers:\n",
    "    if layers.name == 'block5_conv1':\n",
    "        set_trainable = True\n",
    "    if set_trainable:\n",
    "        layers.trainable = True\n",
    "    else:\n",
    "        layers.trainable = False"
   ]
  },
  {
   "cell_type": "code",
   "execution_count": 6,
   "id": "51338ba8",
   "metadata": {},
   "outputs": [],
   "source": [
    "from keras import models\n",
    "from keras import layers"
   ]
  },
  {
   "cell_type": "code",
   "execution_count": 7,
   "id": "3e4bca78",
   "metadata": {},
   "outputs": [],
   "source": [
    "model = models.Sequential()\n",
    "model.add(conv_base)\n",
    "model.add(layers.Flatten())\n",
    "model.add(layers.Dense(256, activation = 'relu'))\n",
    "model.add(layers.Dense(1, activation = 'sigmoid'))"
   ]
  },
  {
   "cell_type": "code",
   "execution_count": 8,
   "id": "9b8522c1",
   "metadata": {},
   "outputs": [
    {
     "name": "stdout",
     "output_type": "stream",
     "text": [
      "Model: \"sequential\"\n",
      "_________________________________________________________________\n",
      "Layer (type)                 Output Shape              Param #   \n",
      "=================================================================\n",
      "vgg16 (Functional)           (None, 4, 4, 512)         14714688  \n",
      "_________________________________________________________________\n",
      "flatten (Flatten)            (None, 8192)              0         \n",
      "_________________________________________________________________\n",
      "dense (Dense)                (None, 256)               2097408   \n",
      "_________________________________________________________________\n",
      "dense_1 (Dense)              (None, 1)                 257       \n",
      "=================================================================\n",
      "Total params: 16,812,353\n",
      "Trainable params: 9,177,089\n",
      "Non-trainable params: 7,635,264\n",
      "_________________________________________________________________\n"
     ]
    }
   ],
   "source": [
    "model.summary()"
   ]
  },
  {
   "cell_type": "code",
   "execution_count": 9,
   "id": "79b005ed",
   "metadata": {},
   "outputs": [],
   "source": [
    "from keras.preprocessing.image import ImageDataGenerator"
   ]
  },
  {
   "cell_type": "code",
   "execution_count": 10,
   "id": "85c23087",
   "metadata": {},
   "outputs": [],
   "source": [
    "from keras import optimizers"
   ]
  },
  {
   "cell_type": "code",
   "execution_count": 11,
   "id": "0333a31a",
   "metadata": {},
   "outputs": [],
   "source": [
    "train_datagen = ImageDataGenerator(\n",
    "rescale = 1./255,\n",
    "rotation_range = 40,\n",
    "width_shift_range = 0.2,\n",
    "height_shift_range = 0.2,\n",
    "shear_range = 0.2,\n",
    "zoom_range = 0.2,\n",
    "horizontal_flip = True,\n",
    "fill_mode = 'nearest')"
   ]
  },
  {
   "cell_type": "code",
   "execution_count": 12,
   "id": "a690ca50",
   "metadata": {},
   "outputs": [],
   "source": [
    "test_datagen = ImageDataGenerator(rescale=1./255)"
   ]
  },
  {
   "cell_type": "code",
   "execution_count": 13,
   "id": "ac19cf71",
   "metadata": {},
   "outputs": [],
   "source": [
    "import os"
   ]
  },
  {
   "cell_type": "code",
   "execution_count": 14,
   "id": "f9af527b",
   "metadata": {},
   "outputs": [],
   "source": [
    "base_dir = r'C:\\Users\\ahsaa\\Desktop\\cats_and_dogs_small'\n",
    "train_dir = os.path.join(base_dir, 'train')b\n",
    "validation_dir = os.path.join(base_dir, 'validation')"
   ]
  },
  {
   "cell_type": "code",
   "execution_count": 19,
   "id": "f9c28b01",
   "metadata": {},
   "outputs": [
    {
     "name": "stdout",
     "output_type": "stream",
     "text": [
      "Found 2000 images belonging to 2 classes.\n"
     ]
    }
   ],
   "source": [
    "train_generator = train_datagen.flow_from_directory(\n",
    "train_dir,\n",
    "target_size=(150, 150),\n",
    "batch_size=20,\n",
    "class_mode='binary')"
   ]
  },
  {
   "cell_type": "code",
   "execution_count": 20,
   "id": "d05d5af2",
   "metadata": {},
   "outputs": [
    {
     "name": "stdout",
     "output_type": "stream",
     "text": [
      "Found 1000 images belonging to 2 classes.\n"
     ]
    }
   ],
   "source": [
    "validation_generator = test_datagen.flow_from_directory(\n",
    "validation_dir,\n",
    "target_size=(150, 150),\n",
    "batch_size=20,\n",
    "class_mode='binary')"
   ]
  },
  {
   "cell_type": "code",
   "execution_count": 21,
   "id": "af9c6312",
   "metadata": {},
   "outputs": [],
   "source": [
    "model.compile(loss='binary_crossentropy',\n",
    "             optimizer=optimizers.RMSprop(learning_rate=2e-5),\n",
    "              metrics=['acc'])"
   ]
  },
  {
   "cell_type": "code",
   "execution_count": 22,
   "id": "bf80a148",
   "metadata": {},
   "outputs": [
    {
     "name": "stdout",
     "output_type": "stream",
     "text": [
      "Epoch 1/100\n",
      "100/100 [==============================] - 36s 118ms/step - loss: 0.5549 - acc: 0.7140 - val_loss: 0.2952 - val_acc: 0.8750\n",
      "Epoch 2/100\n",
      "100/100 [==============================] - 10s 102ms/step - loss: 0.3348 - acc: 0.8512 - val_loss: 0.2792 - val_acc: 0.8790\n",
      "Epoch 3/100\n",
      "100/100 [==============================] - 10s 103ms/step - loss: 0.3094 - acc: 0.8627 - val_loss: 0.2007 - val_acc: 0.9170\n",
      "Epoch 4/100\n",
      "100/100 [==============================] - 10s 102ms/step - loss: 0.2379 - acc: 0.8965 - val_loss: 0.1740 - val_acc: 0.9220\n",
      "Epoch 5/100\n",
      "100/100 [==============================] - 10s 102ms/step - loss: 0.2161 - acc: 0.9131 - val_loss: 0.1729 - val_acc: 0.9330\n",
      "Epoch 6/100\n",
      "100/100 [==============================] - 10s 104ms/step - loss: 0.1960 - acc: 0.9197 - val_loss: 0.1555 - val_acc: 0.9330\n",
      "Epoch 7/100\n",
      "100/100 [==============================] - 10s 103ms/step - loss: 0.2024 - acc: 0.9173 - val_loss: 0.1889 - val_acc: 0.9240\n",
      "Epoch 8/100\n",
      "100/100 [==============================] - 10s 102ms/step - loss: 0.1954 - acc: 0.9250 - val_loss: 0.1588 - val_acc: 0.9340\n",
      "Epoch 9/100\n",
      "100/100 [==============================] - 10s 101ms/step - loss: 0.1886 - acc: 0.9238 - val_loss: 0.2173 - val_acc: 0.9160\n",
      "Epoch 10/100\n",
      "100/100 [==============================] - 10s 101ms/step - loss: 0.1803 - acc: 0.9336 - val_loss: 0.1835 - val_acc: 0.9300\n",
      "Epoch 11/100\n",
      "100/100 [==============================] - 10s 101ms/step - loss: 0.1556 - acc: 0.9269 - val_loss: 0.1772 - val_acc: 0.9330\n",
      "Epoch 12/100\n",
      "100/100 [==============================] - 10s 101ms/step - loss: 0.1374 - acc: 0.9507 - val_loss: 0.1784 - val_acc: 0.9330\n",
      "Epoch 13/100\n",
      "100/100 [==============================] - 10s 101ms/step - loss: 0.1226 - acc: 0.9513 - val_loss: 0.1419 - val_acc: 0.9390\n",
      "Epoch 14/100\n",
      "100/100 [==============================] - 10s 102ms/step - loss: 0.1242 - acc: 0.9455 - val_loss: 0.1425 - val_acc: 0.9370\n",
      "Epoch 15/100\n",
      "100/100 [==============================] - 10s 102ms/step - loss: 0.1335 - acc: 0.9492 - val_loss: 0.1485 - val_acc: 0.9410\n",
      "Epoch 16/100\n",
      "100/100 [==============================] - 10s 102ms/step - loss: 0.1086 - acc: 0.9568 - val_loss: 0.1603 - val_acc: 0.9370\n",
      "Epoch 17/100\n",
      "100/100 [==============================] - 10s 102ms/step - loss: 0.1020 - acc: 0.9605 - val_loss: 0.1959 - val_acc: 0.9330\n",
      "Epoch 18/100\n",
      "100/100 [==============================] - 10s 102ms/step - loss: 0.1050 - acc: 0.9611 - val_loss: 0.1362 - val_acc: 0.9450\n",
      "Epoch 19/100\n",
      "100/100 [==============================] - 10s 103ms/step - loss: 0.0884 - acc: 0.9680 - val_loss: 0.1766 - val_acc: 0.9390\n",
      "Epoch 20/100\n",
      "100/100 [==============================] - 10s 102ms/step - loss: 0.0967 - acc: 0.9580 - val_loss: 0.2870 - val_acc: 0.9190\n",
      "Epoch 21/100\n",
      "100/100 [==============================] - 10s 102ms/step - loss: 0.0999 - acc: 0.9657 - val_loss: 0.1823 - val_acc: 0.9300\n",
      "Epoch 22/100\n",
      "100/100 [==============================] - 10s 102ms/step - loss: 0.0831 - acc: 0.9694 - val_loss: 0.2754 - val_acc: 0.9060\n",
      "Epoch 23/100\n",
      "100/100 [==============================] - 10s 102ms/step - loss: 0.0886 - acc: 0.9691 - val_loss: 0.1642 - val_acc: 0.9420\n",
      "Epoch 24/100\n",
      "100/100 [==============================] - 10s 102ms/step - loss: 0.0804 - acc: 0.9685 - val_loss: 0.1490 - val_acc: 0.9490\n",
      "Epoch 25/100\n",
      "100/100 [==============================] - 10s 101ms/step - loss: 0.0821 - acc: 0.9665 - val_loss: 0.1603 - val_acc: 0.9460\n",
      "Epoch 26/100\n",
      "100/100 [==============================] - 10s 101ms/step - loss: 0.0858 - acc: 0.9652 - val_loss: 0.1624 - val_acc: 0.9380\n",
      "Epoch 27/100\n",
      "100/100 [==============================] - 10s 103ms/step - loss: 0.0838 - acc: 0.9666 - val_loss: 0.1708 - val_acc: 0.9470\n",
      "Epoch 28/100\n",
      "100/100 [==============================] - 10s 103ms/step - loss: 0.0652 - acc: 0.9759 - val_loss: 0.2250 - val_acc: 0.9250\n",
      "Epoch 29/100\n",
      "100/100 [==============================] - 10s 104ms/step - loss: 0.0780 - acc: 0.9689 - val_loss: 0.1914 - val_acc: 0.9400\n",
      "Epoch 30/100\n",
      "100/100 [==============================] - 10s 104ms/step - loss: 0.0730 - acc: 0.9736 - val_loss: 0.1708 - val_acc: 0.9420\n",
      "Epoch 31/100\n",
      "100/100 [==============================] - 10s 102ms/step - loss: 0.0606 - acc: 0.9778 - val_loss: 0.1884 - val_acc: 0.9380\n",
      "Epoch 32/100\n",
      "100/100 [==============================] - 10s 104ms/step - loss: 0.0612 - acc: 0.9775 - val_loss: 0.1760 - val_acc: 0.9420\n",
      "Epoch 33/100\n",
      "100/100 [==============================] - 10s 102ms/step - loss: 0.0546 - acc: 0.9740 - val_loss: 0.1944 - val_acc: 0.9450\n",
      "Epoch 34/100\n",
      "100/100 [==============================] - 10s 101ms/step - loss: 0.0600 - acc: 0.9784 - val_loss: 0.3242 - val_acc: 0.9230\n",
      "Epoch 35/100\n",
      "100/100 [==============================] - 10s 102ms/step - loss: 0.0566 - acc: 0.9781 - val_loss: 0.1549 - val_acc: 0.9460\n",
      "Epoch 36/100\n",
      "100/100 [==============================] - 10s 101ms/step - loss: 0.0527 - acc: 0.9827 - val_loss: 0.3442 - val_acc: 0.9180\n",
      "Epoch 37/100\n",
      "100/100 [==============================] - 10s 101ms/step - loss: 0.0677 - acc: 0.9765 - val_loss: 0.1657 - val_acc: 0.9490\n",
      "Epoch 38/100\n",
      "100/100 [==============================] - 10s 101ms/step - loss: 0.0436 - acc: 0.9832 - val_loss: 0.3406 - val_acc: 0.9280\n",
      "Epoch 39/100\n",
      "100/100 [==============================] - 10s 101ms/step - loss: 0.0431 - acc: 0.9860 - val_loss: 0.2083 - val_acc: 0.9460\n",
      "Epoch 40/100\n",
      "100/100 [==============================] - 10s 102ms/step - loss: 0.0477 - acc: 0.9825 - val_loss: 0.1984 - val_acc: 0.9520\n",
      "Epoch 41/100\n",
      "100/100 [==============================] - 10s 102ms/step - loss: 0.0392 - acc: 0.9830 - val_loss: 0.2266 - val_acc: 0.9430\n",
      "Epoch 42/100\n",
      "100/100 [==============================] - 10s 103ms/step - loss: 0.0405 - acc: 0.9867 - val_loss: 0.1956 - val_acc: 0.9400\n",
      "Epoch 43/100\n",
      "100/100 [==============================] - 10s 103ms/step - loss: 0.0451 - acc: 0.9798 - val_loss: 0.1872 - val_acc: 0.9460\n",
      "Epoch 44/100\n",
      "100/100 [==============================] - 10s 102ms/step - loss: 0.0720 - acc: 0.9729 - val_loss: 0.1968 - val_acc: 0.9440\n",
      "Epoch 45/100\n",
      "100/100 [==============================] - 10s 102ms/step - loss: 0.0644 - acc: 0.9813 - val_loss: 0.1945 - val_acc: 0.9390\n",
      "Epoch 46/100\n",
      "100/100 [==============================] - 10s 102ms/step - loss: 0.0251 - acc: 0.9904 - val_loss: 0.2385 - val_acc: 0.9440\n",
      "Epoch 47/100\n",
      "100/100 [==============================] - 10s 103ms/step - loss: 0.0609 - acc: 0.9848 - val_loss: 0.1813 - val_acc: 0.9470\n",
      "Epoch 48/100\n",
      "100/100 [==============================] - 10s 102ms/step - loss: 0.0371 - acc: 0.9904 - val_loss: 0.2153 - val_acc: 0.9480\n",
      "Epoch 49/100\n",
      "100/100 [==============================] - 10s 101ms/step - loss: 0.0261 - acc: 0.9907 - val_loss: 0.4100 - val_acc: 0.9300\n",
      "Epoch 50/100\n",
      "100/100 [==============================] - 10s 102ms/step - loss: 0.0388 - acc: 0.9881 - val_loss: 0.2258 - val_acc: 0.9450\n",
      "Epoch 51/100\n",
      "100/100 [==============================] - 10s 102ms/step - loss: 0.0410 - acc: 0.9862 - val_loss: 0.2107 - val_acc: 0.9440\n",
      "Epoch 52/100\n",
      "100/100 [==============================] - 10s 103ms/step - loss: 0.0406 - acc: 0.9885 - val_loss: 0.2814 - val_acc: 0.9360\n",
      "Epoch 53/100\n",
      "100/100 [==============================] - 10s 104ms/step - loss: 0.0407 - acc: 0.9832 - val_loss: 0.2828 - val_acc: 0.9430\n",
      "Epoch 54/100\n",
      "100/100 [==============================] - 10s 104ms/step - loss: 0.0431 - acc: 0.9848 - val_loss: 0.2592 - val_acc: 0.9420\n",
      "Epoch 55/100\n",
      "100/100 [==============================] - 10s 103ms/step - loss: 0.0207 - acc: 0.9930 - val_loss: 0.2851 - val_acc: 0.9400\n",
      "Epoch 56/100\n",
      "100/100 [==============================] - 10s 104ms/step - loss: 0.0315 - acc: 0.9905 - val_loss: 0.2857 - val_acc: 0.9390\n",
      "Epoch 57/100\n",
      "100/100 [==============================] - 10s 102ms/step - loss: 0.0313 - acc: 0.9900 - val_loss: 0.2493 - val_acc: 0.9420\n",
      "Epoch 58/100\n",
      "100/100 [==============================] - 10s 102ms/step - loss: 0.0203 - acc: 0.9923 - val_loss: 0.2119 - val_acc: 0.9420\n",
      "Epoch 59/100\n",
      "100/100 [==============================] - 10s 102ms/step - loss: 0.0173 - acc: 0.9952 - val_loss: 0.2945 - val_acc: 0.9390\n",
      "Epoch 60/100\n",
      "100/100 [==============================] - 10s 103ms/step - loss: 0.0251 - acc: 0.9885 - val_loss: 0.4300 - val_acc: 0.9260\n",
      "Epoch 61/100\n",
      "100/100 [==============================] - 10s 102ms/step - loss: 0.0740 - acc: 0.9849 - val_loss: 0.2309 - val_acc: 0.9490\n",
      "Epoch 62/100\n",
      "100/100 [==============================] - 10s 103ms/step - loss: 0.0294 - acc: 0.9929 - val_loss: 0.2558 - val_acc: 0.9450\n",
      "Epoch 63/100\n",
      "100/100 [==============================] - 10s 104ms/step - loss: 0.0328 - acc: 0.9928 - val_loss: 0.2633 - val_acc: 0.9420\n",
      "Epoch 64/100\n",
      "100/100 [==============================] - 10s 104ms/step - loss: 0.0167 - acc: 0.9934 - val_loss: 0.2899 - val_acc: 0.9440\n",
      "Epoch 65/100\n",
      "100/100 [==============================] - 10s 103ms/step - loss: 0.0358 - acc: 0.9903 - val_loss: 0.2986 - val_acc: 0.9350\n",
      "Epoch 66/100\n",
      "100/100 [==============================] - 11s 106ms/step - loss: 0.0137 - acc: 0.9953 - val_loss: 0.2503 - val_acc: 0.9440\n",
      "Epoch 67/100\n",
      "100/100 [==============================] - 10s 102ms/step - loss: 0.0140 - acc: 0.9959 - val_loss: 0.2955 - val_acc: 0.9410\n",
      "Epoch 68/100\n",
      "100/100 [==============================] - 10s 103ms/step - loss: 0.0290 - acc: 0.9864 - val_loss: 0.2918 - val_acc: 0.9400\n",
      "Epoch 69/100\n",
      "100/100 [==============================] - 10s 105ms/step - loss: 0.0299 - acc: 0.9930 - val_loss: 0.2986 - val_acc: 0.9330\n",
      "Epoch 70/100\n",
      "100/100 [==============================] - 10s 103ms/step - loss: 0.0391 - acc: 0.9830 - val_loss: 0.2570 - val_acc: 0.9420\n",
      "Epoch 71/100\n",
      "100/100 [==============================] - 10s 104ms/step - loss: 0.0159 - acc: 0.9950 - val_loss: 0.3527 - val_acc: 0.9300\n",
      "Epoch 72/100\n",
      "100/100 [==============================] - 10s 104ms/step - loss: 0.0270 - acc: 0.9932 - val_loss: 0.3266 - val_acc: 0.9410\n",
      "Epoch 73/100\n",
      "100/100 [==============================] - 10s 104ms/step - loss: 0.0087 - acc: 0.9972 - val_loss: 0.3242 - val_acc: 0.9400\n",
      "Epoch 74/100\n",
      "100/100 [==============================] - 10s 103ms/step - loss: 0.0218 - acc: 0.9908 - val_loss: 0.2874 - val_acc: 0.9460\n",
      "Epoch 75/100\n",
      "100/100 [==============================] - 10s 105ms/step - loss: 0.0290 - acc: 0.9918 - val_loss: 0.2774 - val_acc: 0.9450\n",
      "Epoch 76/100\n",
      "100/100 [==============================] - 10s 104ms/step - loss: 0.0235 - acc: 0.9885 - val_loss: 0.2820 - val_acc: 0.9410\n",
      "Epoch 77/100\n",
      "100/100 [==============================] - 11s 105ms/step - loss: 0.0175 - acc: 0.9908 - val_loss: 0.3491 - val_acc: 0.9400\n",
      "Epoch 78/100\n",
      "100/100 [==============================] - 11s 105ms/step - loss: 0.0233 - acc: 0.9905 - val_loss: 0.3447 - val_acc: 0.9340\n",
      "Epoch 79/100\n",
      "100/100 [==============================] - 11s 105ms/step - loss: 0.0264 - acc: 0.9886 - val_loss: 0.3543 - val_acc: 0.9390\n",
      "Epoch 80/100\n",
      "100/100 [==============================] - 10s 104ms/step - loss: 0.0150 - acc: 0.9961 - val_loss: 0.3084 - val_acc: 0.9430\n",
      "Epoch 81/100\n",
      "100/100 [==============================] - 10s 104ms/step - loss: 0.0259 - acc: 0.9881 - val_loss: 0.2906 - val_acc: 0.9460\n",
      "Epoch 82/100\n",
      "100/100 [==============================] - 11s 105ms/step - loss: 0.0261 - acc: 0.9873 - val_loss: 0.3527 - val_acc: 0.9350\n",
      "Epoch 83/100\n",
      "100/100 [==============================] - 10s 105ms/step - loss: 0.0235 - acc: 0.9897 - val_loss: 0.2780 - val_acc: 0.9500\n",
      "Epoch 84/100\n",
      "100/100 [==============================] - 10s 104ms/step - loss: 0.0289 - acc: 0.9906 - val_loss: 0.4999 - val_acc: 0.9290\n",
      "Epoch 85/100\n",
      "100/100 [==============================] - 10s 102ms/step - loss: 0.0324 - acc: 0.9882 - val_loss: 0.3886 - val_acc: 0.9340\n",
      "Epoch 86/100\n",
      "100/100 [==============================] - 10s 103ms/step - loss: 0.0152 - acc: 0.9948 - val_loss: 0.3507 - val_acc: 0.9400\n",
      "Epoch 87/100\n",
      "100/100 [==============================] - 10s 104ms/step - loss: 0.0293 - acc: 0.9935 - val_loss: 0.3434 - val_acc: 0.9460\n",
      "Epoch 88/100\n",
      "100/100 [==============================] - 10s 104ms/step - loss: 0.0121 - acc: 0.9970 - val_loss: 0.7714 - val_acc: 0.9070\n",
      "Epoch 89/100\n",
      "100/100 [==============================] - 10s 104ms/step - loss: 0.0120 - acc: 0.9971 - val_loss: 0.3712 - val_acc: 0.9430\n",
      "Epoch 90/100\n",
      "100/100 [==============================] - 10s 104ms/step - loss: 0.0234 - acc: 0.9931 - val_loss: 0.3549 - val_acc: 0.9470\n",
      "Epoch 91/100\n",
      "100/100 [==============================] - 10s 103ms/step - loss: 0.0187 - acc: 0.9944 - val_loss: 0.5446 - val_acc: 0.9290\n",
      "Epoch 92/100\n",
      "100/100 [==============================] - 10s 103ms/step - loss: 0.0244 - acc: 0.9900 - val_loss: 0.2956 - val_acc: 0.9470\n",
      "Epoch 93/100\n",
      "100/100 [==============================] - 10s 105ms/step - loss: 0.0276 - acc: 0.9908 - val_loss: 0.5257 - val_acc: 0.9340\n",
      "Epoch 94/100\n",
      "100/100 [==============================] - 10s 105ms/step - loss: 0.0190 - acc: 0.9941 - val_loss: 0.4362 - val_acc: 0.9350\n",
      "Epoch 95/100\n",
      "100/100 [==============================] - 10s 104ms/step - loss: 0.0377 - acc: 0.9887 - val_loss: 0.5305 - val_acc: 0.9290\n",
      "Epoch 96/100\n",
      "100/100 [==============================] - 10s 103ms/step - loss: 0.0288 - acc: 0.9901 - val_loss: 0.4057 - val_acc: 0.9390\n",
      "Epoch 97/100\n",
      "100/100 [==============================] - 10s 103ms/step - loss: 0.0197 - acc: 0.9930 - val_loss: 0.5710 - val_acc: 0.9230\n",
      "Epoch 98/100\n",
      "100/100 [==============================] - 10s 103ms/step - loss: 0.0221 - acc: 0.9941 - val_loss: 0.5812 - val_acc: 0.9250\n",
      "Epoch 99/100\n",
      "100/100 [==============================] - 10s 104ms/step - loss: 0.0094 - acc: 0.9964 - val_loss: 0.3733 - val_acc: 0.9460\n",
      "Epoch 100/100\n",
      "100/100 [==============================] - 11s 105ms/step - loss: 0.0153 - acc: 0.9932 - val_loss: 0.3819 - val_acc: 0.9380\n"
     ]
    }
   ],
   "source": [
    "history = model.fit(\n",
    "train_generator,\n",
    "steps_per_epoch = 100,\n",
    "epochs=100,\n",
    "validation_data = validation_generator,\n",
    "validation_steps=50)"
   ]
  },
  {
   "cell_type": "code",
   "execution_count": 23,
   "id": "e3f36dde",
   "metadata": {},
   "outputs": [],
   "source": [
    "model.save(\"Fine_Tunning.h5\")"
   ]
  },
  {
   "cell_type": "code",
   "execution_count": 24,
   "id": "9f0c0734",
   "metadata": {},
   "outputs": [
    {
     "data": {
      "image/png": "[encoded data removed]",
      "text/plain": [
       "<Figure size 432x288 with 1 Axes>"
      ]
     },
     "metadata": {
      "needs_background": "light"
     },
     "output_type": "display_data"
    },
    {
     "data": {
      "image/png": "[encoded data removed]",
      "text/plain": [
       "<Figure size 432x288 with 1 Axes>"
      ]
     },
     "metadata": {
      "needs_background": "light"
     },
     "output_type": "display_data"
    }
   ],
   "source": [
    "import matplotlib.pyplot as plt\n",
    "\n",
    "acc = history.history['acc']\n",
    "val_acc = history.history['val_acc']\n",
    "loss = history.history['loss']\n",
    "val_loss = history.history['val_loss']\n",
    "epochs = range(1, len(acc) + 1)\n",
    "plt.plot(epochs, acc, 'bo', label='Training acc')\n",
    "plt.plot(epochs, val_acc, 'b', label='Validation acc')\n",
    "plt.title('Training and validation accuracy')\n",
    "plt.legend()\n",
    "plt.figure()\n",
    "plt.plot(epochs, loss, 'bo', label='Training loss')\n",
    "plt.plot(epochs, val_loss, 'b', label='Validation loss')\n",
    "plt.title('Training and validation loss')\n",
    "plt.legend()\n",
    "plt.show()"
   ]
  },
  {
   "cell_type": "code",
   "execution_count": 27,
   "id": "13ab2063",
   "metadata": {},
   "outputs": [],
   "source": [
    "def smooth_curve(points, factor=0.8):\n",
    "    smoothed_points = []\n",
    "    for point in points:\n",
    "        if smoothed_points:\n",
    "            previous = smoothed_points[-1]\n",
    "            smoothed_points.append(previous * factor + point * (1 - factor))\n",
    "        else:\n",
    "            smoothed_points.append(point)\n",
    "    return smoothed_points"
   ]
  },
  {
   "cell_type": "code",
   "execution_count": 28,
   "id": "2bd821d9",
   "metadata": {},
   "outputs": [
    {
     "data": {
      "image/png": "[encoded data removed]",
      "text/plain": [
       "<Figure size 432x288 with 1 Axes>"
      ]
     },
     "metadata": {
      "needs_background": "light"
     },
     "output_type": "display_data"
    },
    {
     "data": {
      "image/png": "[encoded data removed]",
      "text/plain": [
       "<Figure size 432x288 with 1 Axes>"
      ]
     },
     "metadata": {
      "needs_background": "light"
     },
     "output_type": "display_data"
    }
   ],
   "source": [
    "plt.plot(epochs,\n",
    "smooth_curve(acc), 'bo', label='Smoothed training acc')\n",
    "plt.plot(epochs,\n",
    "smooth_curve(val_acc), 'b', label='Smoothed validation acc')\n",
    "plt.title('Training and validation accuracy')\n",
    "plt.legend()\n",
    "plt.figure()\n",
    "plt.plot(epochs,\n",
    "smooth_curve(loss), 'bo', label='Smoothed training loss')\n",
    "plt.plot(epochs,\n",
    "smooth_curve(val_loss), 'b', label='Smoothed validation loss')\n",
    "plt.title('Training and validation loss')\n",
    "plt.legend()\n",
    "plt.show()"
   ]
  },
  {
   "cell_type": "code",
   "execution_count": 31,
   "id": "aff045af",
   "metadata": {},
   "outputs": [
    {
     "name": "stdout",
     "output_type": "stream",
     "text": [
      "Found 1000 images belonging to 2 classes.\n",
      "50/50 [==============================] - 1s 27ms/step - loss: 0.5521 - acc: 0.9440\n",
      "test acc: 0.9440000057220459\n"
     ]
    }
   ],
   "source": [
    "test_dir = r\"C:\\Users\\ahsaa\\Desktop\\cats_and_dogs_small\\test\"\n",
    "test_generator = test_datagen.flow_from_directory(\n",
    "test_dir,\n",
    "target_size=(150, 150),\n",
    "batch_size=20,\n",
    "class_mode='binary')\n",
    "test_loss, test_acc = model.evaluate(test_generator, steps=50)\n",
    "\n",
    "print('test acc:', test_acc)"
   ]
  }
 ],
 "metadata": {
  "kernelspec": {
   "display_name": "Python 3",
   "language": "python",
   "name": "python3"
  },
  "language_info": {
   "codemirror_mode": {
    "name": "ipython",
    "version": 3
   },
   "file_extension": ".py",
   "mimetype": "text/x-python",
   "name": "python",
   "nbconvert_exporter": "python",
   "pygments_lexer": "ipython3",
   "version": "3.8.7"
  }
 },
 "nbformat": 4,
 "nbformat_minor": 5
}
